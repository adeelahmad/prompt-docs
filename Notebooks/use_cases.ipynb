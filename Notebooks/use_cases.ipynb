{
 "cells": [
  {
   "cell_type": "code",
   "execution_count": 2,
   "id": "0620e728",
   "metadata": {},
   "outputs": [],
   "source": [
    "import os\n",
    "import openai\n",
    "import pprint\n",
    "openai.api_key = os.getenv(\"OPENAI_API_KEY\")\n"
   ]
  },
  {
   "cell_type": "code",
   "execution_count": 3,
   "id": "1758d0dd",
   "metadata": {},
   "outputs": [
    {
     "name": "stderr",
     "output_type": "stream",
     "text": [
      "Found cached dataset csv (/Users/sinanozdemir/.cache/huggingface/datasets/alfredodeza___csv/alfredodeza--wine-ratings-918c1fc1fd00f07a/0.0.0/eea64c71ca8b46dd3f537ed218fc9bf495d5707789152eb2764f5c78fa66d59d)\n"
     ]
    },
    {
     "data": {
      "application/vnd.jupyter.widget-view+json": {
       "model_id": "8a7765c0c34c4fddb85ce595fe1e296b",
       "version_major": 2,
       "version_minor": 0
      },
      "text/plain": [
       "  0%|          | 0/3 [00:00<?, ?it/s]"
      ]
     },
     "metadata": {},
     "output_type": "display_data"
    }
   ],
   "source": [
    "from datasets import load_dataset\n",
    "\n",
    "wine_dataset = load_dataset(\"alfredodeza/wine-ratings\")"
   ]
  },
  {
   "cell_type": "code",
   "execution_count": 4,
   "id": "37760399",
   "metadata": {},
   "outputs": [
    {
     "data": {
      "text/plain": [
       "DatasetDict({\n",
       "    train: Dataset({\n",
       "        features: ['name', 'region', 'variety', 'rating', 'notes'],\n",
       "        num_rows: 32780\n",
       "    })\n",
       "    validation: Dataset({\n",
       "        features: ['name', 'region', 'variety', 'rating', 'notes'],\n",
       "        num_rows: 200\n",
       "    })\n",
       "    test: Dataset({\n",
       "        features: ['name', 'region', 'variety', 'rating', 'notes'],\n",
       "        num_rows: 200\n",
       "    })\n",
       "})"
      ]
     },
     "execution_count": 4,
     "metadata": {},
     "output_type": "execute_result"
    }
   ],
   "source": [
    "wine_dataset"
   ]
  },
  {
   "cell_type": "code",
   "execution_count": 10,
   "id": "a56f0d17",
   "metadata": {},
   "outputs": [
    {
     "name": "stdout",
     "output_type": "stream",
     "text": [
      "Jim Barry Lodge Hill Shiraz 2008 is from Clare Valley, South Australia, Australia and is a Red Wine. This wine has deep, dark red/black hues, lifted aromas of mulberry, raspberry, coffee and kirsch. The bramble, chocolate, methol and rosemary fl avours that fi ll the mouth are present in abundance, with delicate, sensual and ripe tannins playing a structural role. This wine is ideally suited to good food, good friends and good conversation.\n",
      "\n",
      "Argyle Reserve Pinot Noir 2005 is from Willamette Valley, Oregon and is a Red Wine. This Pinot Noir has a seductively rich, super dark ruby-violet color. Aromas leap out of the glass with black cherry, black cherry leather and cedar, along with a ripping portion of cinnamon spice. The wine finishes with a hint of violet flower patch. Use of new oak was delicate, so the aromas are authentic Pinot Noir.  \n",
      "\n",
      "Cambria Katherine's Vineyard Chardonnay 1997 is from Central Coast, California and is a White Wine. The 1997 Katherines Vineyard Chardonnay is a rich, mouthfilling wine, with lush pineapple, mango and pear aromas, along with butter and caramel notes.  This wine is well-structured, with a backbone of crisp acid, and a long, lasting finish.\n",
      "\n",
      "Domaine Serene Evenstad Reserve Chardonnay 2015 is from Willamette Valley, Oregon and is a White Wine. The art of blending is a hallmark of the Domaine Serene winemaking program and one of the most important steps in making wines of distinct and unique character. Sourcing only the finest Dijon clone grapes from the winery's premier Chardonnay vineyards in the Dundee Hills, the Evenstad Reserve Chardonnay is meticulously blended for balance, personality and consistently superior quality from vintage to vintage.\n",
      "\n",
      "Barnard Griffin Chardonnay 2012 is from Columbia Valley, Washington and is a White Wine. A burst of ripe fruit flavors greet the palate: infused orange and apple with hints of ginger, honey and wet stone. Rich vanilla aromatics complete this delicious, crisp Chardonnay. A perfect wine for get-togethers with friends. \n",
      "\n"
     ]
    }
   ],
   "source": [
    "def convert_wine_to_string(wine):\n",
    "    description = f'{wine[\"name\"]} is from {wine[\"region\"]} and is a {wine[\"variety\"]}. {wine[\"notes\"]}'\n",
    "    \n",
    "    return description\n",
    "\n",
    "for wine in list(wine_dataset['test'])[:5]:\n",
    "    print(convert_wine_to_string(wine))\n",
    "    print()"
   ]
  },
  {
   "cell_type": "code",
   "execution_count": null,
   "id": "376455a5",
   "metadata": {},
   "outputs": [],
   "source": []
  },
  {
   "cell_type": "code",
   "execution_count": null,
   "id": "f7455ea2",
   "metadata": {},
   "outputs": [],
   "source": []
  },
  {
   "cell_type": "code",
   "execution_count": 11,
   "id": "2efb17bb",
   "metadata": {},
   "outputs": [],
   "source": [
    "import random\n",
    "\n",
    "wines = random.sample(list(wine_dataset['test']), 5)"
   ]
  },
  {
   "cell_type": "code",
   "execution_count": null,
   "id": "ff9d25bf",
   "metadata": {},
   "outputs": [],
   "source": []
  },
  {
   "cell_type": "code",
   "execution_count": 12,
   "id": "fd97f1f2",
   "metadata": {},
   "outputs": [],
   "source": [
    "def pretty_print(data, indent=0):\n",
    "    pp = pprint.PrettyPrinter(indent=indent)\n",
    "    for item in data:\n",
    "        for key, value in item.items():\n",
    "            print(f\"{key}: {value}\")\n",
    "        print()\n",
    "    print()\n"
   ]
  },
  {
   "cell_type": "code",
   "execution_count": 23,
   "id": "65f8cf92",
   "metadata": {},
   "outputs": [],
   "source": [
    "# Define a dictionary for prices\n",
    "prices = {\n",
    "    'gpt-3.5-turbo': {\n",
    "        'input': 0.001 / 1000,  # per token\n",
    "        'output': 0.002 / 1000  # per token\n",
    "    }\n",
    "}\n",
    "\n",
    "def generate_openai_response(prompt, model='gpt-3.5-turbo', **kwargs):\n",
    "    pretty_print(prompt)\n",
    "    chat_completion = openai.ChatCompletion.create(\n",
    "        model=model,\n",
    "        messages=prompt,\n",
    "        **kwargs\n",
    "    )\n",
    "    # Calculate the cost\n",
    "    input_tokens = chat_completion['usage']['prompt_tokens']\n",
    "    output_tokens = chat_completion['usage']['completion_tokens']\n",
    "    input_cost = input_tokens * prices[model]['input']\n",
    "    output_cost = output_tokens * prices[model]['output']\n",
    "    total_cost = input_cost + output_cost\n",
    "    return chat_completion, {'input_cost': input_cost, 'output_cost': output_cost, 'total_cost': total_cost}"
   ]
  },
  {
   "cell_type": "code",
   "execution_count": 24,
   "id": "4e81bd52",
   "metadata": {},
   "outputs": [],
   "source": [
    "user_description = 'This client hates red wines'"
   ]
  },
  {
   "cell_type": "code",
   "execution_count": 29,
   "id": "1dc3a94c",
   "metadata": {},
   "outputs": [
    {
     "name": "stdout",
     "output_type": "stream",
     "text": [
      "role: system\n",
      "content: You are a wine bot that helps clients understand what kind of wine they want. Given a list of wines and a description of the client. Tell me what wines they want by giving me the only the names of the wines. Include a reason preceding each pick to explain to the user why they might like it.\n",
      "\n",
      "role: user\n",
      "content: User: This client hates red wines\n",
      "Wines:\n",
      "Bonaccorsi Melville Vineyard Chardonnay 2013 is from Sta. Rita Hills, Santa Barbara, Central Coast, California and is a White Wine. Very fragrant, with attractive nose of golden apple and pear, nutmeg and leafy grapefruit. Firm texture, with ripe caramel apple, piecrust and vanilla oak. Good acid and length, delish right now!\n",
      "---\n",
      "Gaja Sori Tildin 2009 is from Piedmont, Italy and is a Red Wine. Deep purple in color, with complex aromas of toast, minerals, sour cherries, cedar and spices. This wine dispalys the roundest tasting profile of all Gaja single-vineyard wines. The rich body, subtle texture and fine, ripe tannins are typical for this wine of great finesse, the quintessential expression of the land and the Nebbiolo grape. This wine has extraordinary aging potential--more than forty years in outstanding vintages.\n",
      "---\n",
      "Chateau Montelena Napa Valley Cabernet Sauvignon 2013 is from Napa Valley, California and is a Red Wine. On the nose this wine exhibits blackberry jam, vanilla, andallspice leap out of the glass yet gracefully yield to notes of dried plum, coee bean, and perfume with some patience. Deceptively soft up front, with fresh strawberry and raspberry immediately apparent. These instantly give way though to density and concentration of flavor as the tannins and acidity come into focus. The finish is elegant and balanced with the aforementioned ripe flavors and textures of the vintage comingled with bright acid, cocoa, crème de menthe, and chalky minerality.\n",
      "---\n",
      "Groth Reserve Cabernet Sauvignon 2014 is from Oakville, Napa Valley, California and is a Red Wine. Groth Reserve Cabernet Sauvignon embodies the essence of the most remarkable winegrowing region in the Napa Valley. Or maybe the world. It originates from our tiny Reserve Vineyard, in an appellation where nature’s perfections—from soil to climate—coalesce, allowing us to produce the ultimate expression of Oakville.\n",
      "---\n",
      "Kinsella Estates Heirloom Vineyard Cabernet Sauvignon 2014 is from Dry Creek Valley, Sonoma County, California and is a Red Wine. While it was the third consecutive year marked by limited rainfall, the 2014 vintage offered a perfectly temperate growing season characterized by long, moderate days and cool, clear nights. The year began with warm spring conditions that gave way to an early bud break and the consistent, dry weather afforded an optimal fruit set of small berries with incredible concentration. Crop yields were down a bit from 2013, but the quality was magnificent. It was a textbook growing season, every winemaker’s dream.\n",
      "\n",
      "\n",
      "Based on the client's dislike for red wines, I would recommend the following white wine:\n",
      "\n",
      "Bonaccorsi Melville Vineyard Chardonnay 2013 from Sta. Rita Hills, Santa Barbara, Central Coast, California. This white wine has a fragrant nose of golden apple and pear, nutmeg, and leafy grapefruit. With a firm texture, ripe caramel apple, piecrust, and vanilla oak flavors, this wine has good acidity and length. It's a delicious choice for you!\n",
      "\n",
      "Reason: This wine should appeal to the client because it is a white wine, which they prefer, and it has a fragrant and flavorful profile that includes notes of golden apple and pear.\n"
     ]
    }
   ],
   "source": [
    "newline = '\\n---\\n'\n",
    "res, price = generate_openai_response(\n",
    "[\n",
    "    {'role': 'system', 'content': 'You are a wine bot that helps clients understand what kind of wine they want. Given a list of wines and a description of the client. Tell me what wines they want by giving me the only the names of the wines. Include a reason preceding each pick to explain to the user why they might like it.'}, \n",
    "    {'role': 'user', 'content': f'User: {user_description}\\nWines:\\n{f\"{newline}\".join([convert_wine_to_string(w) for w in wines])}'}\n",
    "])\n",
    "    \n",
    "print(res.choices[0].message.content)\n",
    "\n"
   ]
  },
  {
   "cell_type": "code",
   "execution_count": 30,
   "id": "8506a336",
   "metadata": {},
   "outputs": [
    {
     "data": {
      "text/plain": [
       "{'input_cost': 0.000655,\n",
       " 'output_cost': 0.00028199999999999997,\n",
       " 'total_cost': 0.0009369999999999999}"
      ]
     },
     "execution_count": 30,
     "metadata": {},
     "output_type": "execute_result"
    }
   ],
   "source": [
    "price"
   ]
  },
  {
   "cell_type": "code",
   "execution_count": 31,
   "id": "bd9dc2a5",
   "metadata": {},
   "outputs": [
    {
     "data": {
      "text/plain": [
       "48025.613660619005"
      ]
     },
     "execution_count": 31,
     "metadata": {},
     "output_type": "execute_result"
    }
   ],
   "source": [
    "45 / price['total_cost']  # only about 45k calls to hit 45 dollars now compared to hosting something on HuggingFace"
   ]
  },
  {
   "cell_type": "code",
   "execution_count": null,
   "id": "cdad0f5a",
   "metadata": {},
   "outputs": [],
   "source": []
  }
 ],
 "metadata": {
  "kernelspec": {
   "display_name": "Python 3 (ipykernel)",
   "language": "python",
   "name": "python3"
  },
  "language_info": {
   "codemirror_mode": {
    "name": "ipython",
    "version": 3
   },
   "file_extension": ".py",
   "mimetype": "text/x-python",
   "name": "python",
   "nbconvert_exporter": "python",
   "pygments_lexer": "ipython3",
   "version": "3.11.5"
  }
 },
 "nbformat": 4,
 "nbformat_minor": 5
}
